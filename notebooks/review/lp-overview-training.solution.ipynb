{
 "cells": [
  {
   "cell_type": "markdown",
   "metadata": {
    "application/vnd.databricks.v1+cell": {
     "cellMetadata": {
      "byteLimit": 2048000,
      "rowLimit": 10000
     },
     "inputWidgets": {},
     "nuid": "16b3a22b-e18c-47c3-a68a-8b6fe84fa526",
     "showTitle": false,
     "title": ""
    }
   },
   "source": [
    "# Atelier pratique :  projet fil rouge\n",
    "-----------------------------------------\n",
    "\n"
   ]
  },
  {
   "cell_type": "markdown",
   "metadata": {
    "application/vnd.databricks.v1+cell": {
     "cellMetadata": {
      "byteLimit": 2048000,
      "rowLimit": 10000
     },
     "inputWidgets": {},
     "nuid": "1467d240-660b-452a-9be6-1811f45a8b87",
     "showTitle": false,
     "title": ""
    }
   },
   "source": [
    "# I. A propos du jeu de données\n",
    "\n",
    "## Description de la base de données\n",
    "Il s'agit d'un ensemble de données sur les accidents de voiture à l'échelle nationale qui couvre 49 États des États-Unis. Les données sur les accidents ont été collectées entre février 2016 et mars 2023, à l'aide de plusieurs API qui fournissent des données en continu sur les incidents (ou événements) de la circulation. Ces API diffusent des données sur le trafic saisies par diverses entités, notamment les départements des transports des États-Unis et des États, les forces de l'ordre, les caméras de surveillance du trafic et les capteurs de trafic situés sur les réseaux routiers. L'ensemble de données contient actuellement environ 7,7 millions d'enregistrements d'accidents. Pour plus d'informations sur cet ensemble de données, veuillez consulter le site suivant.\n",
    "## Remerciements\n",
    "Si vous utilisez cet ensemble de données, veuillez citer les articles suivants :\n",
    "Moosavi, Sobhan, Mohammad Hossein Samavatian, Srinivasan Parthasarathy et Rajiv Ramnath. « A Countrywide Traffic Accident Dataset », 2019.\n",
    "Moosavi, Sobhan, Mohammad Hossein Samavatian, Srinivasan Parthasarathy, Radu Teodorescu et Rajiv Ramnath. « Accident Risk Prediction based on Heterogeneous Sparse Data : New Dataset and Insights ». In proceedings of the 27th ACM SIGSPATIAL International Conference on Advances in Geographic Information Systems, ACM, 2019.\n",
    "## Contenu\n",
    "Cet ensemble de données a été collecté en temps réel à l'aide de plusieurs API de trafic. Il contient des données d'accidents collectées de février 2016 à mars 2023 pour les États-Unis contigus. Pour plus de détails sur ce jeu de données, veuillez consulter [ici].\n",
    "## Inspiration\n",
    "Le jeu de données US-Accidents peut être utilisé pour de nombreuses applications, telles que la prédiction en temps réel des accidents de la route, l'étude de la sécurité routière, l'évaluation de la sécurité routière, etc.\n",
    "\n",
    "\n",
    "## Autres détails\n",
    "Veuillez noter qu'il peut manquer des données pour certains jours, ce qui peut être dû à des problèmes de connectivité du réseau lors de la collecte des données. Malheureusement, l'ensemble de données ne sera plus mis à jour et cette version doit être considérée comme la plus récente.\n",
    "\n",
    "## Politique d'utilisation et clause de non-responsabilité\n",
    "Cet ensemble de données est distribué uniquement à des fins de recherche sous la licence Creative Commons Attribution-Noncommercial-ShareAlike (CC BY-NC-SA 4.0). En téléchargeant l'ensemble de données, vous acceptez de l'utiliser uniquement à des fins non commerciales, de recherche ou d'enseignement. Si vous utilisez cet ensemble de données, il est nécessaire de citer les articles mentionnés ci-dessus."
   ]
  },
  {
   "cell_type": "markdown",
   "metadata": {
    "application/vnd.databricks.v1+cell": {
     "cellMetadata": {
      "byteLimit": 2048000,
      "rowLimit": 10000
     },
     "inputWidgets": {},
     "nuid": "10418c96-3717-4fef-9f45-13e5cde777f0",
     "showTitle": false,
     "title": ""
    }
   },
   "source": [
    "# II. Chargement du dataset"
   ]
  },
  {
   "cell_type": "markdown",
   "metadata": {
    "application/vnd.databricks.v1+cell": {
     "cellMetadata": {
      "byteLimit": 2048000,
      "rowLimit": 10000
     },
     "inputWidgets": {},
     "nuid": "9e386a28-0698-4c0d-91e1-b6102a575730",
     "showTitle": false,
     "title": ""
    }
   },
   "source": [
    "**II.1 [Python]** Lire le contenu du fichier csv `/Volumes/training/raw/accidents/US_Accidents_March23.csv` (sans prendre en compte l'entête) dans le dataframe raw_accidents_noheader_df et l'afficher\n",
    "\n",
    "Tips : https://spark.apache.org/docs/latest/sql-data-sources-csv.html "
   ]
  },
  {
   "cell_type": "code",
   "execution_count": 0,
   "metadata": {
    "application/vnd.databricks.v1+cell": {
     "cellMetadata": {
      "byteLimit": 2048000,
      "rowLimit": 10000
     },
     "inputWidgets": {},
     "nuid": "72e02d2b-7eb9-4865-af81-16250739d941",
     "showTitle": false,
     "title": ""
    }
   },
   "outputs": [],
   "source": [
    "\n",
    "accidents_filepath = \"/Volumes/training/raw/accidents/US_Accidents_March23.csv\"\n",
    "raw_accidents_noheader = spark.read.csv(accidents_filepath)\n",
    "display(raw_accidents_noheader)"
   ]
  },
  {
   "cell_type": "code",
   "execution_count": 0,
   "metadata": {
    "application/vnd.databricks.v1+cell": {
     "cellMetadata": {
      "byteLimit": 2048000,
      "rowLimit": 10000
     },
     "inputWidgets": {},
     "nuid": "9751e791-fed3-4acc-a303-ad9bc5adaf4f",
     "showTitle": false,
     "title": ""
    }
   },
   "outputs": [],
   "source": [
    "raw_accidents_with_schema = spark.read.option(\"header\", \"true\").option(\"inferSchema\", \"true\").csv(accidents_filepath)\n",
    "display(raw_accidents_with_schema)"
   ]
  },
  {
   "cell_type": "markdown",
   "metadata": {
    "application/vnd.databricks.v1+cell": {
     "cellMetadata": {
      "byteLimit": 2048000,
      "rowLimit": 10000
     },
     "inputWidgets": {},
     "nuid": "8666d216-d062-4341-8bac-c1485ced17da",
     "showTitle": false,
     "title": ""
    }
   },
   "source": [
    "II.2 [Sql] Afficher le contenu du fichier csv `/Volumes/training/raw/accidents/US_Accidents_March23.csv` "
   ]
  },
  {
   "cell_type": "code",
   "execution_count": 0,
   "metadata": {
    "application/vnd.databricks.v1+cell": {
     "cellMetadata": {
      "byteLimit": 2048000,
      "implicitDf": true,
      "rowLimit": 10000
     },
     "inputWidgets": {},
     "nuid": "2449e780-e9c1-49e6-a1c5-3d9b38966d33",
     "showTitle": false,
     "title": ""
    }
   },
   "outputs": [],
   "source": [
    "%sql\n",
    "use training.raw;\n",
    "select * from read_files('/Volumes/training/raw/accidents/US_Accidents_March23.csv', format => 'csv', header => false);"
   ]
  },
  {
   "cell_type": "markdown",
   "metadata": {
    "application/vnd.databricks.v1+cell": {
     "cellMetadata": {
      "byteLimit": 2048000,
      "rowLimit": 10000
     },
     "inputWidgets": {},
     "nuid": "9d4a5351-3eca-4117-97b5-6cb78ca77f3f",
     "showTitle": false,
     "title": ""
    }
   },
   "source": [
    "II.3 [Python] Lire le contenu du fichier csv `/Volumes/training/raw/accidents/US_Accidents_March23.csv` (en prenant en compte l'entête) dans le dataframe `raw_accidents_noschema_df` et l'afficher\n",
    "Tips : https://spark.apache.org/docs/latest/sql-data-sources-csv.html"
   ]
  },
  {
   "cell_type": "code",
   "execution_count": 0,
   "metadata": {
    "application/vnd.databricks.v1+cell": {
     "cellMetadata": {
      "byteLimit": 2048000,
      "rowLimit": 10000
     },
     "inputWidgets": {},
     "nuid": "34f03e2d-06e5-43ed-8aae-49de31a4ce30",
     "showTitle": false,
     "title": ""
    }
   },
   "outputs": [],
   "source": [
    "raw_accidents_noschema_df = spark.read.option(\"header\", \"true\").csv(accidents_filepath)\n",
    "display(raw_accidents_noschema_df)"
   ]
  },
  {
   "cell_type": "markdown",
   "metadata": {
    "application/vnd.databricks.v1+cell": {
     "cellMetadata": {
      "byteLimit": 2048000,
      "rowLimit": 10000
     },
     "inputWidgets": {},
     "nuid": "0ca01b1e-2199-4a91-975e-1a12ae6299aa",
     "showTitle": false,
     "title": ""
    }
   },
   "source": [
    "II.4 [Sql] Afficher le contenu du fichier csv `/Volumes/training/raw/accidents/US_Accidents_March23.csv` (en prenant  en compte l'entête)"
   ]
  },
  {
   "cell_type": "code",
   "execution_count": 0,
   "metadata": {
    "application/vnd.databricks.v1+cell": {
     "cellMetadata": {
      "byteLimit": 2048000,
      "implicitDf": true,
      "rowLimit": 10000
     },
     "inputWidgets": {},
     "nuid": "30457817-6721-43c2-a640-cba2d4af51ec",
     "showTitle": false,
     "title": ""
    }
   },
   "outputs": [],
   "source": [
    "%sql\n",
    "select * from read_files(\n",
    "    \"/Volumes/training/raw/accidents/US_Accidents_March23.csv\",\n",
    "    format => \"csv\",\n",
    "    header => true\n",
    "    )"
   ]
  },
  {
   "cell_type": "markdown",
   "metadata": {
    "application/vnd.databricks.v1+cell": {
     "cellMetadata": {
      "byteLimit": 2048000,
      "rowLimit": 10000
     },
     "inputWidgets": {},
     "nuid": "fd25d086-c4dc-4623-8275-5c3be339a674",
     "showTitle": false,
     "title": ""
    }
   },
   "source": [
    "II.5 [python] Afficher le schema du dataframe `raw_accidents_no_schema_df`"
   ]
  },
  {
   "cell_type": "code",
   "execution_count": 0,
   "metadata": {
    "application/vnd.databricks.v1+cell": {
     "cellMetadata": {
      "byteLimit": 2048000,
      "rowLimit": 10000
     },
     "inputWidgets": {},
     "nuid": "27dc1c40-1328-4caf-997a-16b943cccb9b",
     "showTitle": false,
     "title": ""
    }
   },
   "outputs": [],
   "source": [
    "raw_accidents_noschema_df.printSchema"
   ]
  },
  {
   "cell_type": "markdown",
   "metadata": {
    "application/vnd.databricks.v1+cell": {
     "cellMetadata": {
      "byteLimit": 2048000,
      "rowLimit": 10000
     },
     "inputWidgets": {},
     "nuid": "39962d19-f274-4ad0-8941-ca3ba54f7d56",
     "showTitle": false,
     "title": ""
    }
   },
   "source": [
    "II.6 [python] Créer un dataframe `raw_accidents_df` à partir du fichier `/Volumes/training/train/rawdatas/US_Accidents_March23.csv` tout en inférant le schema et l'afficher"
   ]
  },
  {
   "cell_type": "code",
   "execution_count": 0,
   "metadata": {
    "application/vnd.databricks.v1+cell": {
     "cellMetadata": {
      "byteLimit": 2048000,
      "rowLimit": 10000
     },
     "inputWidgets": {},
     "nuid": "e20a1415-9ac3-47e7-bd25-c8ac1caacbde",
     "showTitle": false,
     "title": ""
    }
   },
   "outputs": [],
   "source": [
    "raw_accidents_df = spark.read.option(\"header\", \"true\").option(\"inferSchema\", \"true\").csv(accidents_filepath)\n",
    "\n",
    "display(raw_accidents_df)"
   ]
  },
  {
   "cell_type": "markdown",
   "metadata": {
    "application/vnd.databricks.v1+cell": {
     "cellMetadata": {},
     "inputWidgets": {},
     "nuid": "63b61675-63f0-4706-ac6a-69dea64b928c",
     "showTitle": false,
     "title": ""
    }
   },
   "source": [
    "II.7 [python] Créer le dataframe `raw_accidents_clean_df` à partir du dataframe `raw_accidents_df` en renommant les colonnes suivantes : \n",
    "-     Distance(mi) -> Distance\n",
    "- Temperature(F)-> Temperature\n",
    "- Wind_Chill(F) -> Wind_Chill\n",
    "- Humidity(%) ->Humidity\n",
    "- Pressure(in) -> Pressure\n",
    "- Visibility(mi) -> Visibility\n",
    "- Wind_Speed(mph) -> Wind_Speed\n",
    "- Precipitation(in) -> Precipitation\n"
   ]
  },
  {
   "cell_type": "code",
   "execution_count": 0,
   "metadata": {
    "application/vnd.databricks.v1+cell": {
     "cellMetadata": {
      "byteLimit": 2048000,
      "rowLimit": 10000
     },
     "inputWidgets": {},
     "nuid": "8076518e-4143-4f95-823d-c5ee96063d62",
     "showTitle": false,
     "title": ""
    }
   },
   "outputs": [],
   "source": [
    "raw_accidents_clean_df = raw_accidents_df.withColumnsRenamed({\n",
    "    \"Distance(mi)\": \"Distance\",\n",
    "    \"Temperature(F)\": \"Temperature\",\n",
    "    \"Wind_Chill(F)\": \"Wind_Chill\",\n",
    "    \"Humidity(%)\": \"Humidity\",\n",
    "    \"Pressure(in)\": \"Pressure\",\n",
    "    \"Visibility(mi)\": \"Visibility\",\n",
    "    \"Wind_Speed(mph)\": \"Wind_Speed\",\n",
    "    \"Precipitation(in)\": \"Precipitation\"\n",
    "})"
   ]
  },
  {
   "cell_type": "markdown",
   "metadata": {
    "application/vnd.databricks.v1+cell": {
     "cellMetadata": {
      "byteLimit": 2048000,
      "rowLimit": 10000
     },
     "inputWidgets": {},
     "nuid": "71f4cfda-bf1f-4947-9bac-44c2aa7198bc",
     "showTitle": false,
     "title": ""
    }
   },
   "source": [
    "II.8 [python] Sauvegarder le contenu du dataframe `raw_accidents_df` en tant table delta `training.accidents.us_accidents_clean_<votrenom>`"
   ]
  },
  {
   "cell_type": "code",
   "execution_count": 0,
   "metadata": {
    "application/vnd.databricks.v1+cell": {
     "cellMetadata": {
      "byteLimit": 2048000,
      "rowLimit": 10000
     },
     "inputWidgets": {},
     "nuid": "20fb2e22-5f50-47eb-a59a-3d0809abd89b",
     "showTitle": false,
     "title": ""
    }
   },
   "outputs": [],
   "source": [
    "raw_accidents_clean_df.write.format(\"delta\").mode(\"overwrite\").saveAsTable(\"training.accidents.us_accidents_clean_cka\")\n",
    "#raw_accidents_clean_df.cache().write.format(\"delta\").mode(\"overwrite\").saveAsTable(\"training.accidents.us_accidents_clean_cka\")"
   ]
  },
  {
   "cell_type": "markdown",
   "metadata": {
    "application/vnd.databricks.v1+cell": {
     "cellMetadata": {
      "byteLimit": 2048000,
      "rowLimit": 10000
     },
     "inputWidgets": {},
     "nuid": "6b5fe3e4-104d-4d6c-b400-a0615fba9bf5",
     "showTitle": false,
     "title": ""
    }
   },
   "source": [
    "II.9 [sql] Afficher le contenu de votre table delta `training.accidents.us_accidents_clean_<votrenom>`"
   ]
  },
  {
   "cell_type": "code",
   "execution_count": 0,
   "metadata": {
    "application/vnd.databricks.v1+cell": {
     "cellMetadata": {
      "byteLimit": 2048000,
      "implicitDf": true,
      "rowLimit": 10000
     },
     "inputWidgets": {},
     "nuid": "a4f6dac6-f85c-4b65-9e9a-99444070b812",
     "showTitle": false,
     "title": ""
    }
   },
   "outputs": [],
   "source": [
    "%sql\n",
    "select * from training.accidents.us_accidents_clean_cka"
   ]
  },
  {
   "cell_type": "markdown",
   "metadata": {
    "application/vnd.databricks.v1+cell": {
     "cellMetadata": {
      "byteLimit": 2048000,
      "rowLimit": 10000
     },
     "inputWidgets": {},
     "nuid": "803e29ab-1d39-40ea-8e95-092bc73ecdac",
     "showTitle": false,
     "title": ""
    }
   },
   "source": [
    "# III. [BONUS] Analyse"
   ]
  },
  {
   "cell_type": "markdown",
   "metadata": {
    "application/vnd.databricks.v1+cell": {
     "cellMetadata": {
      "byteLimit": 2048000,
      "rowLimit": 10000
     },
     "inputWidgets": {},
     "nuid": "047f4181-7741-4e86-905b-6a8b635c2d2a",
     "showTitle": false,
     "title": ""
    }
   },
   "source": [
    "III.1 Arrondir la latitude et la longitude avec 6 chiffres significatifs"
   ]
  },
  {
   "cell_type": "code",
   "execution_count": 0,
   "metadata": {
    "application/vnd.databricks.v1+cell": {
     "cellMetadata": {
      "byteLimit": 2048000,
      "rowLimit": 10000
     },
     "inputWidgets": {},
     "nuid": "1ee97d3f-0550-4ff9-9e3a-63e5c3d8bf71",
     "showTitle": false,
     "title": ""
    }
   },
   "outputs": [],
   "source": [
    "from pyspark.sql.functions import round, col\n",
    "\n",
    "rounded_accidents_df = raw_accidents_clean_df.withColumn(\"Start_Lat\", round(col(\"Start_Lat\"), 6))\\\n",
    "    .withColumn(\"End_Lat\", round(col(\"End_Lat\"), 6))\\\n",
    "    .withColumn(\"Start_Lng\", round(col(\"Start_Lng\"), 6))\\\n",
    "    .withColumn(\"End_Lng\", round(col(\"End_Lng\"), 6))\n",
    "display(rounded_accidents_df)"
   ]
  },
  {
   "cell_type": "code",
   "execution_count": 0,
   "metadata": {
    "application/vnd.databricks.v1+cell": {
     "cellMetadata": {
      "byteLimit": 2048000,
      "implicitDf": true,
      "rowLimit": 10000
     },
     "inputWidgets": {},
     "nuid": "477f7a9c-bfb9-4d8d-8b38-272b9e77d330",
     "showTitle": false,
     "title": ""
    }
   },
   "outputs": [],
   "source": [
    "%sql\n",
    "CREATE OR REPLACE VIEW training.accidents.us_accidents_rounded_cka\n",
    "as\n",
    "SELECT \n",
    "    * \n",
    "EXCEPT \n",
    "    (Start_Lat, Start_Lng, End_Lat, End_Lng), \n",
    "    ROUND(Start_Lat, 6) AS Start_Lat,\n",
    "    ROUND(Start_Lng, 6) AS Start_Lng,\n",
    "    ROUND(End_Lat, 6) AS End_Lat,\n",
    "    ROUND(End_Lng, 6) AS End_Lng\n",
    "FROM \n",
    "    training.accidents.us_accidents_clean_cka;\n",
    "select * from training.accidents.us_accidents_rounded_cka;\n"
   ]
  },
  {
   "cell_type": "markdown",
   "metadata": {
    "application/vnd.databricks.v1+cell": {
     "cellMetadata": {
      "byteLimit": 2048000,
      "rowLimit": 10000
     },
     "inputWidgets": {},
     "nuid": "0a37d9e9-229d-402e-9b8a-7c9ab8d4f53a",
     "showTitle": false,
     "title": ""
    }
   },
   "source": [
    "III.2 Ne garder que les données postérieures au 8 février 2016"
   ]
  },
  {
   "cell_type": "code",
   "execution_count": 0,
   "metadata": {
    "application/vnd.databricks.v1+cell": {
     "cellMetadata": {
      "byteLimit": 2048000,
      "rowLimit": 10000
     },
     "inputWidgets": {},
     "nuid": "80384ab0-4c6f-4d75-8bba-8603d6adbefb",
     "showTitle": false,
     "title": ""
    }
   },
   "outputs": [],
   "source": [
    "recents_only_df = rounded_accidents_df.where(col(\"Start_Time\") > \"2016-02-08T06:40:00.000+0000\")\n",
    "display(recents_only_df)"
   ]
  },
  {
   "cell_type": "code",
   "execution_count": 0,
   "metadata": {
    "application/vnd.databricks.v1+cell": {
     "cellMetadata": {
      "byteLimit": 2048000,
      "implicitDf": true,
      "rowLimit": 10000
     },
     "inputWidgets": {},
     "nuid": "082b092a-9870-4fde-b4eb-5bb43025ba2d",
     "showTitle": false,
     "title": ""
    }
   },
   "outputs": [],
   "source": [
    "%sql\n",
    "CREATE OR REPLACE VIEW training.accidents.us_accidents_recent_cka AS\n",
    "select * from training.accidents.us_accidents_rounded_cka \n",
    "where Start_Time > \"2016-02-08T00:00:00.000+0000\";\n",
    "select * from training.accidents.us_accidents_recent_cka;"
   ]
  },
  {
   "cell_type": "markdown",
   "metadata": {
    "application/vnd.databricks.v1+cell": {
     "cellMetadata": {
      "byteLimit": 2048000,
      "rowLimit": 10000
     },
     "inputWidgets": {},
     "nuid": "60ae1c21-6ba6-4ca8-b910-6a336d1fd555",
     "showTitle": false,
     "title": ""
    }
   },
   "source": [
    "III.3 Compter le nombre d'accidents par niveau de gravité pour chaque état et le visualiser sous former de graphe"
   ]
  },
  {
   "cell_type": "code",
   "execution_count": 0,
   "metadata": {
    "application/vnd.databricks.v1+cell": {
     "cellMetadata": {
      "byteLimit": 2048000,
      "rowLimit": 10000
     },
     "inputWidgets": {},
     "nuid": "3804c8b2-6183-4a22-8519-eead97cdc7e7",
     "showTitle": false,
     "title": ""
    }
   },
   "outputs": [],
   "source": [
    "recents_accidents_by_state_and_sev_df = recents_only_df.select(\"Severity\", \"State\").groupBy(\"State\", \"Severity\").count()\n",
    "display(recents_accidents_by_state_and_sev_df)"
   ]
  },
  {
   "cell_type": "code",
   "execution_count": 0,
   "metadata": {
    "application/vnd.databricks.v1+cell": {
     "cellMetadata": {
      "byteLimit": 2048000,
      "implicitDf": true,
      "rowLimit": 10000
     },
     "inputWidgets": {},
     "nuid": "3e1ba1b6-4ae5-433b-9b1f-8b88669426ae",
     "showTitle": false,
     "title": ""
    }
   },
   "outputs": [],
   "source": [
    "%sql\n",
    "CREATE OR REPLACE  VIEW training.accidents.us_accidents_by_state_and_sev_cka AS\n",
    "select State, Severity, Count(*) as count from training.accidents.us_accidents_recent_cka\n",
    "group by State, Severity;\n",
    "select * from training.accidents.us_accidents_by_state_and_sev_cka;"
   ]
  },
  {
   "cell_type": "markdown",
   "metadata": {
    "application/vnd.databricks.v1+cell": {
     "cellMetadata": {
      "byteLimit": 2048000,
      "rowLimit": 10000
     },
     "inputWidgets": {},
     "nuid": "013f0554-3198-4c84-918e-36abe3c2462f",
     "showTitle": false,
     "title": ""
    }
   },
   "source": [
    "III.4 Calculer le nombre total d'accidents par état"
   ]
  },
  {
   "cell_type": "code",
   "execution_count": 0,
   "metadata": {
    "application/vnd.databricks.v1+cell": {
     "cellMetadata": {
      "byteLimit": 2048000,
      "rowLimit": 10000
     },
     "inputWidgets": {},
     "nuid": "195654d7-1511-4f0c-ba72-6dd538c561f5",
     "showTitle": false,
     "title": ""
    }
   },
   "outputs": [],
   "source": [
    "recents_accidents_by_state_df = recents_only_df.select(\"State\").groupBy(\"State\").count()\n",
    "display(recents_accidents_by_state_df)"
   ]
  },
  {
   "cell_type": "code",
   "execution_count": 0,
   "metadata": {
    "application/vnd.databricks.v1+cell": {
     "cellMetadata": {
      "byteLimit": 2048000,
      "implicitDf": true,
      "rowLimit": 10000
     },
     "inputWidgets": {},
     "nuid": "fc5920c3-086f-47b6-8876-13435b2ca59c",
     "showTitle": false,
     "title": ""
    }
   },
   "outputs": [
    {
     "output_type": "display_data",
     "data": {
      "text/plain": [
       "Databricks visualization. Run in Databricks to view."
      ]
     },
     "metadata": {
      "application/vnd.databricks.v1.subcommand+json": {
       "baseErrorDetails": null,
       "bindings": {},
       "collapsed": false,
       "command": "%sql WITH q AS (select * from training.accidents.us_accidents_by_state_cka) SELECT `State`,SUM(`count`) `column_2d56ba333` FROM q GROUP BY `State`",
       "commandTitle": "Visualization 1",
       "commandType": "auto",
       "commandVersion": 0,
       "commentThread": [],
       "commentsVisible": false,
       "contentSha256Hex": null,
       "customPlotOptions": {
        "redashChart": [
         {
          "key": "type",
          "value": "CHART"
         },
         {
          "key": "options",
          "value": {
           "alignYAxesAtZero": true,
           "coefficient": 1,
           "columnConfigurationMap": {
            "x": {
             "column": "State",
             "id": "column_2d56ba331"
            },
            "y": [
             {
              "column": "count",
              "id": "column_2d56ba333",
              "transform": "SUM"
             }
            ]
           },
           "dateTimeFormat": "DD/MM/YYYY HH:mm",
           "direction": {
            "type": "counterclockwise"
           },
           "error_y": {
            "type": "data",
            "visible": true
           },
           "globalSeriesType": "pie",
           "isAggregationOn": true,
           "legend": {
            "traceorder": "normal"
           },
           "missingValuesAsZero": true,
           "numberFormat": "0,0.[00000]",
           "percentFormat": "0[.]00%",
           "series": {
            "error_y": {
             "type": "data",
             "visible": true
            },
            "stacking": null
           },
           "seriesOptions": {
            "column_2d56ba333": {
             "type": "pie",
             "yAxis": 0
            }
           },
           "showDataLabels": true,
           "sizemode": "diameter",
           "sortX": true,
           "sortY": true,
           "swappedAxes": false,
           "textFormat": "",
           "useAggregationsUi": true,
           "valuesOptions": {},
           "version": 2,
           "xAxis": {
            "labels": {
             "enabled": true
            },
            "type": "-"
           },
           "yAxis": [
            {
             "type": "-"
            },
            {
             "opposite": true,
             "type": "-"
            }
           ]
          }
         }
        ]
       },
       "datasetPreviewNameToCmdIdMap": {},
       "diffDeletes": [],
       "diffInserts": [],
       "displayType": "redashChart",
       "error": null,
       "errorDetails": null,
       "errorSummary": null,
       "errorTraceType": null,
       "finishTime": 0,
       "globalVars": {},
       "guid": "",
       "height": "auto",
       "hideCommandCode": false,
       "hideCommandResult": false,
       "iPythonMetadata": null,
       "inputWidgets": {},
       "isLockedInExamMode": false,
       "latestUser": "a user",
       "latestUserId": null,
       "listResultMetadata": null,
       "metadata": {
        "byteLimit": 2048000,
        "implicitDf": true,
        "rowLimit": 10000
       },
       "nuid": "23516061-aa68-43a9-b3b7-f62aae8efa0d",
       "origId": 0,
       "parentHierarchy": [],
       "pivotAggregation": null,
       "pivotColumns": null,
       "position": 35.0,
       "resultDbfsErrorMessage": null,
       "resultDbfsStatus": "INLINED_IN_TREE",
       "results": null,
       "showCommandTitle": false,
       "startTime": 0,
       "state": "input",
       "streamStates": {},
       "subcommandOptions": {
        "queryPlan": {
         "groups": [
          {
           "column": "State",
           "type": "column"
          }
         ],
         "selects": [
          {
           "column": "State",
           "type": "column"
          },
          {
           "alias": "column_2d56ba333",
           "args": [
            {
             "column": "count",
             "type": "column"
            }
           ],
           "function": "SUM",
           "type": "function"
          }
         ]
        }
       },
       "submitTime": 0,
       "subtype": "tableResultSubCmd.visualization",
       "tableResultIndex": 0,
       "tableResultSettingsMap": null,
       "useConsistentColors": false,
       "version": "CommandV1",
       "width": "auto",
       "workflows": null,
       "xColumns": null,
       "yColumns": null
      }
     },
     "output_type": "display_data"
    }
   ],
   "source": [
    "%sql\n",
    "CREATE OR REPLACE  VIEW training.accidents.us_accidents_by_state_cka AS\n",
    "select State, Count(*) as count from training.accidents.us_accidents_recent_cka\n",
    "group by State;\n",
    "select * from training.accidents.us_accidents_by_state_cka;"
   ]
  }
 ],
 "metadata": {
  "application/vnd.databricks.v1+notebook": {
   "dashboards": [],
   "environmentMetadata": {
    "base_environment": "",
    "client": "1"
   },
   "language": "python",
   "notebookMetadata": {
    "mostRecentlyExecutedCommandWithImplicitDF": {
     "commandId": 1108603682145873,
     "dataframes": [
      "_sqldf"
     ]
    },
    "pythonIndentUnit": 4
   },
   "notebookName": "lp-overview-training.solution",
   "widgets": {}
  }
 },
 "nbformat": 4,
 "nbformat_minor": 0
}
